{
 "cells": [
  {
   "cell_type": "code",
   "execution_count": null,
   "id": "7d25665c",
   "metadata": {},
   "outputs": [],
   "source": [
    "import pandas as pd"
   ]
  },
  {
   "cell_type": "markdown",
   "id": "6119964a",
   "metadata": {},
   "source": [
    "# Proceso ETL\n",
    "\n",
    "### Extracción de los datos"
   ]
  },
  {
   "cell_type": "code",
   "execution_count": null,
   "id": "2044199e",
   "metadata": {},
   "outputs": [],
   "source": [
    "df = pd.read_csv('Datos_proyecto_II_BI_2017.csv',encoding='latin-1')\n",
    "df2 = pd.read_csv('Datos_proyecto_II_BI_2021.csv',encoding='latin-1')"
   ]
  },
  {
   "cell_type": "markdown",
   "id": "f075de73",
   "metadata": {},
   "source": [
    "### Transformación "
   ]
  },
  {
   "cell_type": "code",
   "execution_count": null,
   "id": "a87cfeda",
   "metadata": {},
   "outputs": [],
   "source": [
    "df.rename(columns={'LOCALIDAD_TEX':'Localidad','COD_UPZ':'UPZ_id','CODLOCALIDAD':'Localidad_id','NPCEP17':'Cult_id'},inplace=True)\n",
    "df2.rename(columns={'NOMBRE_LOCALIDAD':'Localidad','COD_UPZ_GRUPO':'UPZ_id','COD_LOCALIDAD':'Localidad_id','NPCEP17':'Cult_id'},inplace=True)\n",
    "df['year_id']=1\n",
    "df2['year_id']=2\n",
    "frames=[df,df2]"
   ]
  },
  {
   "cell_type": "code",
   "execution_count": null,
   "id": "dcdfc540",
   "metadata": {},
   "outputs": [],
   "source": [
    "def funct(a):\n",
    "    try:\n",
    "        return a.upper()\n",
    "    except:\n",
    "        return a"
   ]
  },
  {
   "cell_type": "code",
   "execution_count": null,
   "id": "92355a60",
   "metadata": {
    "scrolled": false
   },
   "outputs": [],
   "source": [
    "localiz = pd.concat(frames)\n",
    "localiz['Localidad'] = localiz.apply(lambda a : funct(a['Localidad']),axis=1)\n",
    "localiz['Localidad'] = localiz.apply(lambda a : 'ANTONIO NARIÑO' if a['Localidad']== 'ANTONIO NARIÃ\\x91O' else a['Localidad'],axis=1)\n",
    "localiz['Localidad'] = localiz.apply(lambda a : 'LA CANDELARIA' if a['Localidad']== 'CANDELARIA' else a['Localidad'],axis=1)\n",
    "\n",
    "localzDimension = pd.DataFrame(localiz[['UPZ_id','Localidad','Localidad_id']].value_counts(dropna=True).reset_index(name='count')).drop(columns=['count'])\n",
    "localzDimension.to_csv('dimensionLocalizacion.csv', index=False)\n",
    "## Se define UPZ_id como llave primaria / hay 3219 registros vacios en 'UPZ_id' que se eliminan \n"
   ]
  },
  {
   "cell_type": "code",
   "execution_count": null,
   "id": "c2d3c929",
   "metadata": {},
   "outputs": [],
   "source": [
    "year =  {\n",
    "    'year_id':[1,2],\n",
    "    'year':[2017,2021]\n",
    "}\n",
    "\n",
    "yearDimension = pd.DataFrame.from_dict(year)\n",
    "yearDimension\n",
    "yearDimension.to_csv('dimensionAño.csv', index=False)"
   ]
  },
  {
   "cell_type": "code",
   "execution_count": null,
   "id": "572c9e02",
   "metadata": {},
   "outputs": [],
   "source": [
    "cult =  {\n",
    "    'Cult_id':[1,2,3,4,5,6],\n",
    "    'CulturaEtnia':['Indígena','Gitano','Raizal del archipiélago de San Andrés Providencia y Santa Catalina',\n",
    "        'Palenquero(a) de San Basilio','Negro(a) mulato(a) (afrodescendiente)','Ninguno de los anteriores']\n",
    "}\n",
    "\n",
    "culturDimension = pd.DataFrame.from_dict(cult)\n",
    "culturDimension\n",
    "culturDimension.to_csv('dimensionCultural.csv', index=False)"
   ]
  },
  {
   "cell_type": "code",
   "execution_count": null,
   "id": "a8862acf",
   "metadata": {},
   "outputs": [],
   "source": [
    "gastSalud = {\n",
    "    'gasto_id':['NPCFP25BA','NPCFP27','NPCFP33AA','NPCFP33BA','NPCFP33CA','NPCFP33DA','NPCFP33EA','NPCFP33FA','NPCFP34','NPCFP35AA','NPCFP35BA'],\n",
    "    'descripcion' : ['Gasto mensual en cuidador','Gasto en hospitalizaciones en el ultimo año ','Gasto en consulta de medicina general ultimos 30 días','Gasto en consulta con especialista ultimos 30 días','Gasto en consulta o tratamiento odontológico ultimos 30 días','Gasto en vacunas ultimos 30 días','Gasto en  Laboratorio clínico RX exámenes de diagnóstico ultimos 30 días','Gasto en terapias alternativas ultimos 30 días','Gasto en medicamentos ultimos 30 días ','Gastos  Lentes audífonos o aparatos ortopédicos ultimos 12 meses','Gastos Cirugías o procedimientos quirúrgicos ambulatorios ultimos 12 meses']\n",
    "}\n",
    "\n",
    "gastSaludDimension = pd.DataFrame.from_dict(gastSalud)\n",
    "gastSaludDimension.to_csv('dimensionGastoSalud.csv', index=False)"
   ]
  },
  {
   "cell_type": "code",
   "execution_count": null,
   "id": "3c135c1f",
   "metadata": {},
   "outputs": [],
   "source": [
    "factTable = pd.concat(frames).drop(columns=['Localidad','Localidad_id'])\n",
    "factTable = factTable.dropna(subset=['UPZ_id'])\n",
    "fact_table_=pd.DataFrame(columns=['UPZ_id','Cult_id','year_id','gasto_id','valor'])\n",
    "for i in gastSalud['gasto_id']:\n",
    "    aux = factTable[['UPZ_id','Cult_id','year_id',i]].copy()\n",
    "    aux['gasto_id']=i\n",
    "    aux[i] = aux[i].fillna(0)\n",
    "    aux.rename(columns={i:'valor'},inplace=True)\n",
    "    fact_table_=pd.concat([fact_table_,aux])\n",
    "factTable=fact_table_\n",
    "factTable.to_csv('factTable.csv', index=False)"
   ]
  },
  {
   "cell_type": "markdown",
   "id": "b1460def",
   "metadata": {},
   "source": [
    "### Carga \n",
    "Se cargan los archivos .csv a la db"
   ]
  },
  {
   "cell_type": "code",
   "execution_count": null,
   "id": "54b3fe3a",
   "metadata": {},
   "outputs": [],
   "source": [
    "!pip install psycopg2"
   ]
  },
  {
   "cell_type": "code",
   "execution_count": null,
   "id": "796b5ed3",
   "metadata": {},
   "outputs": [],
   "source": [
    "import csv\n",
    "import psycopg2\n",
    "\n",
    "conn = psycopg2.connect(\"host= localhost port=5432  dbname=BI user= postgres password= postgres\")\n",
    "\n",
    "cur = conn.cursor()\n",
    "\n",
    "def cargarSQL(filename, cursor, conex):\n",
    "    tabla = filename.replace(\".csv\", \"\")\n",
    "    with open(filename, 'r') as f:\n",
    "        next(f) # Skip the header row.\n",
    "        cursor.copy_from(f, tabla.lower(), sep=',')\n",
    "    conex.commit()\n",
    "\n",
    "#Tabla dimensionLocalizacion \n",
    "filename = \"dimensionLocalizacion.csv\"\n",
    "fileInput = open(filename, \"r\")\n",
    "tabla = filename.replace(\".csv\", \"\")\n",
    "firstLine = fileInput.readline().strip()\n",
    "columns = firstLine.split(\",\")\n",
    "sqlQueryCreate = 'DROP TABLE IF EXISTS '+ tabla + \" CASCADE;\\n\"\n",
    "sqlQueryCreate += 'CREATE TABLE '+ tabla + \"(\"\n",
    "sqlQueryCreate += \"UPZ_id VARCHAR(64) PRIMARY KEY,\\n\"\n",
    "sqlQueryCreate += \"Localidad VARCHAR(64),\\n\"\n",
    "sqlQueryCreate += \"Localidad_id VARCHAR(64)\\n\"\n",
    "sqlQueryCreate += \");\"\n",
    "cur.execute(sqlQueryCreate)\n",
    "conn.commit()\n",
    "cargarSQL(filename,cur,conn)\n",
    "\n",
    "\n",
    "#Tabla dimensionCultural \n",
    "filename = \"dimensionCultural.csv\"\n",
    "fileInput = open(filename, \"r\")\n",
    "tabla = filename.replace(\".csv\", \"\")\n",
    "firstLine = fileInput.readline().strip()\n",
    "columns = firstLine.split(\",\")\n",
    "sqlQueryCreate = 'DROP TABLE IF EXISTS '+ tabla + \" CASCADE;\\n\"\n",
    "sqlQueryCreate += 'CREATE TABLE '+ tabla + \"(\"\n",
    "sqlQueryCreate += \"Cult_id VARCHAR(64) PRIMARY KEY,\\n\"\n",
    "sqlQueryCreate += \"CulturaEtnia VARCHAR(70)\\n\"\n",
    "sqlQueryCreate += \");\"\n",
    "cur.execute(sqlQueryCreate)\n",
    "conn.commit()\n",
    "cargarSQL(filename,cur,conn)\n",
    "\n",
    "#Tabla dimensionCultural \n",
    "filename = \"dimensionCultural.csv\"\n",
    "fileInput = open(filename, \"r\")\n",
    "tabla = filename.replace(\".csv\", \"\")\n",
    "firstLine = fileInput.readline().strip()\n",
    "columns = firstLine.split(\",\")\n",
    "sqlQueryCreate = 'DROP TABLE IF EXISTS '+ tabla + \" CASCADE;\\n\"\n",
    "sqlQueryCreate += 'CREATE TABLE '+ tabla + \"(\"\n",
    "sqlQueryCreate += \"Cult_id VARCHAR(64) PRIMARY KEY,\\n\"\n",
    "sqlQueryCreate += \"CulturaEtnia VARCHAR(70)\\n\"\n",
    "sqlQueryCreate += \");\"\n",
    "cur.execute(sqlQueryCreate)\n",
    "conn.commit()\n",
    "cargarSQL(filename,cur,conn)\n",
    "        \n",
    "    \n",
    "#Tabla dimensionGastoSalud\n",
    "filename = \"dimensionGastoSalud.csv\"\n",
    "fileInput = open(filename, \"r\")\n",
    "tabla = filename.replace(\".csv\", \"\")\n",
    "firstLine = fileInput.readline().strip()\n",
    "columns = firstLine.split(\",\")\n",
    "sqlQueryCreate = 'DROP TABLE IF EXISTS '+ tabla + \" CASCADE;\\n\"\n",
    "sqlQueryCreate += 'CREATE TABLE '+ tabla + \"(\"\n",
    "sqlQueryCreate += \"gasto_id VARCHAR(64) PRIMARY KEY,\\n\"\n",
    "sqlQueryCreate += \"descripcion VARCHAR(80)\\n\"\n",
    "sqlQueryCreate += \");\"\n",
    "cur.execute(sqlQueryCreate)\n",
    "conn.commit()\n",
    "cargarSQL(filename,cur,conn)\n",
    "    \n",
    "#Tabla dimensionAño\n",
    "filename = \"dimensionAño.csv\"\n",
    "fileInput = open(filename, \"r\")\n",
    "tabla = filename.replace(\".csv\", \"\")\n",
    "firstLine = fileInput.readline().strip()\n",
    "columns = firstLine.split(\",\")\n",
    "sqlQueryCreate = 'DROP TABLE IF EXISTS '+ tabla  + \" CASCADE;\\n\"\n",
    "sqlQueryCreate += 'CREATE TABLE '+ tabla  + \"(\"\n",
    "sqlQueryCreate += \"year_id INTEGER PRIMARY KEY,\\n\"\n",
    "sqlQueryCreate += \"year INTEGER\\n\"\n",
    "sqlQueryCreate += \");\"\n",
    "cur.execute(sqlQueryCreate)\n",
    "conn.commit()\n",
    "cargarSQL(filename,cur,conn)\n",
    "\n",
    "\n",
    "#Tabla de hechos \n",
    "filename = \"factTable.csv\"\n",
    "fileInput = open(filename, \"r\")\n",
    "tabla = filename.replace(\".csv\", \"\")\n",
    "firstLine = fileInput.readline().strip()\n",
    "columns = firstLine.split(\",\")\n",
    "sqlQueryCreate = 'DROP TABLE IF EXISTS '+ tabla + \";\\n\"\n",
    "sqlQueryCreate += 'CREATE TABLE '+ tabla + \"(\"\n",
    "sqlQueryCreate += \"UPZ_id VARCHAR(64) references dimensionlocalizacion(upz_id),\\n\"\n",
    "sqlQueryCreate += \"Cult_id VARCHAR(64) references dimensioncultural(cult_id),\\n\"\n",
    "sqlQueryCreate += \"year_id INTEGER references dimensionaño(year_id),\\n\"\n",
    "sqlQueryCreate += \"gasto_id VARCHAR(64) references dimensiongastosalud(gasto_id),\\n\"\n",
    "sqlQueryCreate += \"valor real \\n\"\n",
    "sqlQueryCreate += \");\"\n",
    "cur.execute(sqlQueryCreate)\n",
    "conn.commit()\n",
    "cargarSQL(filename,cur,conn)\n",
    "       \n",
    "cur.close()"
   ]
  }
 ],
 "metadata": {
  "kernelspec": {
   "display_name": "Python 3 (ipykernel)",
   "language": "python",
   "name": "python3"
  },
  "language_info": {
   "codemirror_mode": {
    "name": "ipython",
    "version": 3
   },
   "file_extension": ".py",
   "mimetype": "text/x-python",
   "name": "python",
   "nbconvert_exporter": "python",
   "pygments_lexer": "ipython3",
   "version": "3.9.13"
  }
 },
 "nbformat": 4,
 "nbformat_minor": 5
}
